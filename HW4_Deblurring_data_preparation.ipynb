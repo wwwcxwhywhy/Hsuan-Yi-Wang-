{
 "cells": [
  {
   "cell_type": "markdown",
   "id": "97ea644d",
   "metadata": {},
   "source": [
    "#### <strong><font color=cornflowerblue>第四次作品：深度學習影像去模糊模型之訓練流程設計與實作 </font></strong>\n",
    "學號：711331135\n",
    "\n",
    "姓名：王宣懿\n",
    "\n",
    "<hr>\n",
    "\n",
    "#### <strong>作品目標</strong>：本作品旨在建立並訓練一套高效的影像去模糊模型，透過深度學習技術還原模糊影像的清晰度。首先，從資料集（如 T91、Set5、Set14）中讀取清晰圖像，將其裁切成指定大小的小圖塊（patch），並對每個 patch 套用高斯模糊產生對應的模糊版本，形成成對的訓練資料。這些模糊／清晰影像對依據訓練與驗證需求儲存於不同資料夾，作為模型學習的基礎。接著，透過 PyTorch 架構多種影像去模糊模型，結合自定義 Dataset 類別載入資料、設定損失函數與訓練超參數，完成模型訓練與評估流程。本作品亦設計兩階段訓練策略，先以 Set5 與 Set14 等簡單資料集進行預訓練，協助模型學習基礎特徵擷取能力，再以 T91 資料集進行微調，提升模型在真實模糊影像上的表現。最終透過 PSNR 等指標以及視覺化結果，評估模型效能還原品質與實際去模糊效果。\n",
    "\n"
   ]
  },
  {
   "cell_type": "markdown",
   "id": "7678e7c6",
   "metadata": {},
   "source": [
    "<hr>\n",
    "\n",
    "#### <strong>載入套件</strong>："
   ]
  },
  {
   "cell_type": "code",
   "execution_count": null,
   "id": "465fa5e0",
   "metadata": {},
   "outputs": [],
   "source": [
    "from PIL import Image\n",
    "from tqdm import tqdm\n",
    "import matplotlib.pyplot as plt\n",
    "import patchify\n",
    "import numpy as np\n",
    "import matplotlib.gridspec as gridspec\n",
    "import glob as glob\n",
    "import os\n",
    "import cv2"
   ]
  },
  {
   "cell_type": "markdown",
   "id": "75a1dac6",
   "metadata": {},
   "source": [
    "<hr>\n",
    "<hr>\n",
    "\n",
    "#### **<font color=cornflowerblue>資料預處理：</font>**  \n",
    "建立去模糊模型所需的訓練與驗證資料集，透過影像裁切與模糊處理產生成對的清晰與模糊影像 patch。從數個資料夾（如 T91、Set5、Set14）讀取清晰影像，依指定大小切割成小圖塊，並對每個 patch 套用高斯模糊產生對應的模糊版本。最終，將這些 patch 分別儲存為清晰版本（作為標籤）與模糊版本（作為輸入），並依據訓練與驗證資料來源存入不同資料夾，供後續模型訓練與測試使用。\n",
    "\n"
   ]
  },
  {
   "cell_type": "markdown",
   "id": "ed829662",
   "metadata": {},
   "source": [
    "#### (1) 資料預處理參數設定（Patch 切割與高斯模糊）"
   ]
  },
  {
   "cell_type": "code",
   "execution_count": null,
   "id": "d41271de",
   "metadata": {},
   "outputs": [],
   "source": [
    "DIR_PATH = \"C:/Users/User/Downloads/DeblurCNN_2025_v1.1\"\n",
    "SHOW_PATCHES = False\n",
    "STRIDE = 96 # Stride for the patches.\n",
    "PATCH_SIZE = 96 # Size of the patches.\n",
    "GAUSSIAN_KERNEL = (5, 5) # Kernel size for Gaussian blur.\n",
    "SIGMA_X = 0 # Sigma for Gaussian blur. 0 means it is calculated from the kernel size.\n"
   ]
  },
  {
   "cell_type": "markdown",
   "id": "1f5b36bc",
   "metadata": {},
   "source": [
    "#### (2) T91 資料集（ 訓練用 ）影像切割與模糊處理說明\n",
    "**注意事項：**\n",
    "- T91_sharp_patches ： 存放清晰原始的影像 patch ， 作為驗證階段的標籤資料。\n",
    "- T91_blurred_patches : 存放經高斯模糊處理後的 patch ， 作為模型的輸入資料。\n",
    "- 每個輸出影像檔案皆採用統一的五位數純數字命名（如 00001.png），這種命名方式有助於PyTorch 資料讀取流程 。"
   ]
  },
  {
   "cell_type": "code",
   "execution_count": null,
   "id": "6a45599e",
   "metadata": {},
   "outputs": [
    {
     "name": "stderr",
     "output_type": "stream",
     "text": [
      "  0%|          | 0/91 [00:00<?, ?it/s]"
     ]
    },
    {
     "name": "stderr",
     "output_type": "stream",
     "text": [
      "100%|██████████| 91/91 [00:01<00:00, 60.11it/s] "
     ]
    },
    {
     "name": "stdout",
     "output_type": "stream",
     "text": [
      "✅ DONE：T91 patch 裁切與模糊完成（純數字命名）！\n"
     ]
    },
    {
     "name": "stderr",
     "output_type": "stream",
     "text": [
      "\n"
     ]
    }
   ],
   "source": [
    "\n",
    "# 設定資料夾\n",
    "input_dir = DIR_PATH + \"inputs/T91\"\n",
    "sharp_out_dir = DIR_PATH + \"inputs/T91_sharp_patches\"\n",
    "blur_out_dir = DIR_PATH + \"inputs/T91_blurred_patches\"\n",
    "\n",
    "\n",
    "# 建資料夾\n",
    "os.makedirs(sharp_out_dir, exist_ok=True)\n",
    "os.makedirs(blur_out_dir, exist_ok=True)\n",
    "\n",
    "count = 0  # ← 加入統一命名計數器\n",
    "\n",
    "# 開始處理每張圖\n",
    "for img_name in tqdm(os.listdir(input_dir)):\n",
    "    img_path = os.path.join(input_dir, img_name)\n",
    "    img = cv2.imread(img_path, cv2.IMREAD_COLOR)\n",
    "\n",
    "    if img is None:\n",
    "        continue  # 防呆\n",
    "\n",
    "    h, w, _ = img.shape\n",
    "    if h < PATCH_SIZE or w < PATCH_SIZE:\n",
    "        continue  # 太小不處理\n",
    "\n",
    "    # 對圖片做 patchify\n",
    "    patches = patchify(img, (PATCH_SIZE, PATCH_SIZE, 3), step=STRIDE)\n",
    "\n",
    "    for i in range(patches.shape[0]):\n",
    "        for j in range(patches.shape[1]):\n",
    "            patch = patches[i, j, 0]\n",
    "\n",
    "            patch_name = f\"{count:05d}.png\"  # ← 改成純數字命名\n",
    "            sharp_path = os.path.join(sharp_out_dir, patch_name)\n",
    "            blur_path = os.path.join(blur_out_dir, patch_name)\n",
    "\n",
    "            # 儲存清晰版本\n",
    "            cv2.imwrite(sharp_path, patch)\n",
    "\n",
    "            # 套用 Gaussian 模糊後儲存模糊版本\n",
    "            blurred_patch = cv2.GaussianBlur(patch, GAUSSIAN_KERNEL, sigmaX=SIGMA_X)\n",
    "            cv2.imwrite(blur_path, blurred_patch)\n",
    "\n",
    "            count += 1  # ← 記得遞增\n",
    "print(\"✅ DONE：T91 patch 裁切與模糊完成（純數字命名）！\")"
   ]
  },
  {
   "cell_type": "markdown",
   "id": "d74bf890",
   "metadata": {},
   "source": [
    "#### (3)  Set5 與 Set14 資料集（驗證用）影像切割與模糊處理說明\n",
    "**注意事項：**\n",
    "- VAL_sharp_patches ： 存放清晰原始的影像 patch ， 作為驗證階段的標籤資料。\n",
    "- VAL_blurred_patches : 存放經高斯模糊處理後的 patch ， 作為模型的輸入資料。\n",
    "- 每個輸出影像檔案皆採用統一的五位數純數字命名（如 00001.png），這種命名方式有助於PyTorch 資料讀取流程 。"
   ]
  },
  {
   "cell_type": "code",
   "execution_count": null,
   "id": "bcf68a20",
   "metadata": {},
   "outputs": [
    {
     "name": "stderr",
     "output_type": "stream",
     "text": [
      "處理 : 100%|██████████| 5/5 [00:00<00:00, 31.29it/s]\n",
      "處理 : 100%|██████████| 14/14 [00:01<00:00, 12.56it/s]"
     ]
    },
    {
     "name": "stdout",
     "output_type": "stream",
     "text": [
      "✅ 成功產生 352 張驗證 patch 到：\n",
      "   ../inputs/VAL_sharp_patches\n",
      "   ../inputs/VAL_blurred_patches\n"
     ]
    },
    {
     "name": "stderr",
     "output_type": "stream",
     "text": [
      "\n"
     ]
    }
   ],
   "source": [
    "\n",
    "# 設定來源與輸出資料夾\n",
    "DIR_PATH = \"../\"  # 如果你的 notebook 和 inputs 是平行的，就用 ../，否則請依實際路徑修改\n",
    "input_paths = [\n",
    "    DIR_PATH + \"inputs/Set5/\",\n",
    "    DIR_PATH + \"inputs/Set14/\"\n",
    "]\n",
    "val_sharp_dir = DIR_PATH + \"inputs/VAL_sharp_patches\"\n",
    "val_blur_dir = DIR_PATH + \"inputs/VAL_blurred_patches\"\n",
    "\n",
    "# 建立資料夾\n",
    "os.makedirs(val_sharp_dir, exist_ok=True)\n",
    "os.makedirs(val_blur_dir, exist_ok=True)\n",
    "\n",
    "# 開始切 patch + 模糊\n",
    "count = 0\n",
    "for dir_path in input_paths:\n",
    "    for filename in tqdm(os.listdir(dir_path), desc=f\"處理 {os.path.basename(dir_path)}\"):\n",
    "        img_path = os.path.join(dir_path, filename)\n",
    "        img = cv2.imread(img_path)\n",
    "        if img is None:\n",
    "            print(f\"⚠️ 無法讀取：{img_path}\")\n",
    "            continue\n",
    "\n",
    "        patches = patchify(img, (PATCH_SIZE, PATCH_SIZE, 3), step=STRIDE)\n",
    "        for i in range(patches.shape[0]):\n",
    "            for j in range(patches.shape[1]):\n",
    "                patch = patches[i, j, 0]\n",
    "                patch_filename = f\"{count:05d}.png\"\n",
    "\n",
    "                # 儲存清晰 patch\n",
    "                sharp_path = os.path.join(val_sharp_dir, patch_filename)\n",
    "                cv2.imwrite(sharp_path, patch)\n",
    "\n",
    "                # 儲存模糊 patch\n",
    "                blur_patch = cv2.GaussianBlur(patch, GAUSSIAN_KERNEL, sigmaX=SIGMA_X)\n",
    "                blur_path = os.path.join(val_blur_dir, patch_filename)\n",
    "                cv2.imwrite(blur_path, blur_patch)\n",
    "\n",
    "                count += 1\n",
    "\n",
    "print(f\"✅ 成功產生 {count} 張驗證 patch 到：\")\n",
    "print(f\"   {val_sharp_dir}\")\n",
    "print(f\"   {val_blur_dir}\")"
   ]
  },
  {
   "cell_type": "markdown",
   "id": "4741abbd",
   "metadata": {},
   "source": [
    "#### **<font color=cornflowerblue>學生與老師兩種版本比較表：</font>**   \n",
    "| 處理面向                       | 學生版本              | 老師版本             |\n",
    "|----------------------------|----------------------------------------|-------------------------------------------|\n",
    "| **裁切大小 (Patch Size)**       | 96 × 96                                  | 33 × 33                                     |\n",
    "| **裁切步長 (Stride)**           | 96                                       | 14                                          |\n",
    "| **模糊核心大小 (Gaussian Kernel)** | (5, 5)                                    | (5, 5)                                      |\n",
    "| **模糊程度 (Sigma X)**          | 0（自動推算）                            |0（自動推算）                              |\n",
    "| **模糊順序**                   |  模糊套用於每個 patch（先裁切再模糊）     |  模糊也套用於每個 patch（先裁切再模糊） |\n",
    "| **Patch 命名方式**             | 單純流水號（如 00001.png）               | 檔名＋編號（如 img_001.png）               |\n",
    "| **資料完整性**       | 分開處理 T91 訓練集與 Set5/Set14 驗證集，並明確指定輸出資料夾    | 只處理 T30 資料，無驗證資料夾，未區分訓練／驗證用途             |\n"
   ]
  }
 ],
 "metadata": {
  "kernelspec": {
   "display_name": "Python 3",
   "language": "python",
   "name": "python3"
  },
  "language_info": {
   "codemirror_mode": {
    "name": "ipython",
    "version": 3
   },
   "file_extension": ".py",
   "mimetype": "text/x-python",
   "name": "python",
   "nbconvert_exporter": "python",
   "pygments_lexer": "ipython3",
   "version": "3.10.0"
  }
 },
 "nbformat": 4,
 "nbformat_minor": 5
}
